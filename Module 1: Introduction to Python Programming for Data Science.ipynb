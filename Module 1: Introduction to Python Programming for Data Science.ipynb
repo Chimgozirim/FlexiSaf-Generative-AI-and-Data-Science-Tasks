# First task for Flexisaff Gen Ai/ Machine Learning Engineering internship.
* Create a Python program that simulates a game of Rock, Paper, Scissors between the user and the computer. The program must Define the possible choices, Get the user's choice, Generate a random choice for the computer, Determine the winner based on the rules of Rock, Paper, Scissors.

import random

def game_options():
    options = ['rock', 'paper', 'scissors'] #The only options to select from
    return options

def player_choice(options): # A function that gets the user's choice
    
    while_loop_activator = 'Something not in the option yet, so the user can then choose'
    
    user_choice = while_loop_activator # This is just so the while loop has an existing condition to evaluate and run on.
    
    while user_choice not in options:
        #Possible user choice. Must be one of the values in the options.
        user_choice = input(f"Please enter your choice. Choose from one of the options in the brackets ({', '.join(options)})").lower()
        if user_choice not in options:
            print(f'Invalid choice. Please select any of these {", ".join(options)}')

    return user_choice

def computer_choice(options):
    ''' The function takes some options as a parameter
        and selects one option at random each time the function is called
    '''
    return random.choice(options)

def rules(your_choice, system_choice):
    '''
    This function defines the game rules
    and determines the winner bases on the user input and
    the randomly selected computer choice. It does this using
    some defined condition, then returns a meesage that tells 
    the ouitcome of the game.
    '''
    
    if your_choice == system_choice:
        print("It's a tie!")
    elif (your_choice == 'rock' and system_choice == 'scissors') \
        or (your_choice == 'scissors' and system_choice == 'paper') \
        or (your_choice == 'paper' and system_choice == 'rock'):
        print("You win!!")
    else:
        print("Computer wins!")

def play():
    '''
    This is the function that runs the game when called.
    It does this by defining the arguments for the rule() function,
    and it also calls all the other functions.
    '''
    options = game_options()
    your_choice = player_choice(options)
    system_choice = computer_choice(options)
    print(f"\nYou chose: {your_choice}")
    print(f"Computer chose: {system_choice}\n")
    result = rules(your_choice, system_choice)
    


if __name__ == '__main__':
    play()

